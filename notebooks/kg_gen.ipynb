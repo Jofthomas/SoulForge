{
 "cells": [
  {
   "cell_type": "markdown",
   "id": "2ccd9b35",
   "metadata": {},
   "source": [
    "# KG generation with customized LM"
   ]
  },
  {
   "cell_type": "code",
   "execution_count": 4,
   "id": "1469e366",
   "metadata": {},
   "outputs": [
    {
     "name": "stderr",
     "output_type": "stream",
     "text": [
      "c:\\Users\\lixia\\anaconda3\\envs\\llm_venv\\Lib\\site-packages\\tqdm\\auto.py:21: TqdmWarning: IProgress not found. Please update jupyter and ipywidgets. See https://ipywidgets.readthedocs.io/en/stable/user_install.html\n",
      "  from .autonotebook import tqdm as notebook_tqdm\n"
     ]
    }
   ],
   "source": [
    "import os\n",
    "from llama_index import VectorStoreIndex, SimpleDirectoryReader, ServiceContext\n",
    "from llama_index.llms import HuggingFaceLLM\n",
    "from llama_index.prompts import PromptTemplate\n",
    "from transformers import BitsAndBytesConfig\n",
    "from IPython.display import Markdown, display\n",
    "import torch\n",
    "from transformers import (\n",
    "    AutoModelForCausalLM,\n",
    "    AutoTokenizer,\n",
    "    pipeline,\n",
    "    BitsAndBytesConfig\n",
    ")\n",
    "from typing import Optional, List, Mapping, Any, Tuple\n",
    "from langchain.embeddings.huggingface import HuggingFaceBgeEmbeddings\n",
    "from llama_index import (\n",
    "    ServiceContext, \n",
    "    SimpleDirectoryReader, \n",
    "#     LangchainEmbedding, \n",
    "#     ListIndex,\n",
    "    KnowledgeGraphIndex\n",
    ")\n",
    "from llama_index.callbacks import CallbackManager\n",
    "from llama_index.llms import (\n",
    "    CustomLLM, \n",
    "    CompletionResponse, \n",
    "    CompletionResponseGen,\n",
    "    LLMMetadata,\n",
    ")\n",
    "from llama_index.storage.storage_context import StorageContext\n",
    "from llama_index.graph_stores import NebulaGraphStore\n",
    "from llama_index.llms.base import llm_completion_callback"
   ]
  },
  {
   "cell_type": "markdown",
   "id": "2665ab23",
   "metadata": {},
   "source": [
    "### Preparation"
   ]
  },
  {
   "cell_type": "code",
   "execution_count": 3,
   "id": "c8eb2639",
   "metadata": {},
   "outputs": [],
   "source": [
    "# For OpenAI\n",
    "\n",
    "import os\n",
    "\n",
    "# os.environ[\"OPENAI_API_KEY\"], handled in openrc reading\n",
    "\n",
    "import logging\n",
    "import sys\n",
    "\n",
    "logging.basicConfig(\n",
    "    stream=sys.stdout, level=logging.INFO\n",
    ")\n",
    "\n",
    "from llama_index import (\n",
    "    VectorStoreIndex,\n",
    "    SimpleDirectoryReader,\n",
    "    KnowledgeGraphIndex,\n",
    "    ServiceContext,\n",
    "    set_global_service_context\n",
    ")\n",
    "\n",
    "from llama_index.storage.storage_context import StorageContext\n",
    "from llama_index.graph_stores import NebulaGraphStore\n",
    "\n",
    "import logging\n",
    "import sys\n",
    "\n",
    "from IPython.display import Markdown, display\n",
    "\n",
    "\n",
    "from llama_index.llms import OpenAI\n",
    "\n",
    "\n",
    "# define LLM\n",
    "llm = OpenAI(temperature=0, model=\"text-davinci-002\")\n",
    "service_context = ServiceContext.from_defaults(llm=llm, chunk_size=512)\n",
    "\n",
    "# set global service context\n",
    "set_global_service_context(service_context)"
   ]
  },
  {
   "cell_type": "markdown",
   "id": "69bd49cf",
   "metadata": {},
   "source": [
    "### Create nebula space"
   ]
  },
  {
   "cell_type": "code",
   "execution_count": 2,
   "metadata": {},
   "outputs": [],
   "source": [
    "from nebula3.gclient.net import Connection\n",
    "from nebula3.gclient.net.SessionPool import SessionPool\n",
    "from nebula3.Config import SessionPoolConfig\n",
    "from nebula3.common.ttypes import ErrorCode\n",
    "import time\n",
    "import os"
   ]
  },
  {
   "cell_type": "code",
   "execution_count": 6,
   "metadata": {},
   "outputs": [],
   "source": [
    "os.environ['NEBULA_USER'] = \"root\"\n",
    "os.environ['NEBULA_PASSWORD'] = \"nebula\"\n",
    "os.environ[\"GRAPHD_HOST\"] = \"127.0.0.1\"\n",
    "os.environ[\"GRAPHD_PORT\"] = \"9669\"\n",
    "os.environ['NEBULA_ADDRESS'] = \"127.0.0.1:9669\"\n"
   ]
  },
  {
   "cell_type": "code",
   "execution_count": 7,
   "metadata": {},
   "outputs": [],
   "source": [
    "config = SessionPoolConfig()\n",
    "\n",
    "# prepare space\n",
    "conn = Connection()\n",
    "conn.open(os.environ[\"GRAPHD_HOST\"], os.environ[\"GRAPHD_PORT\"], 1000)\n",
    "auth_result = conn.authenticate(os.environ[\"NEBULA_USER\"], os.environ[\"NEBULA_PASSWORD\"])\n",
    "assert auth_result.get_session_id() != 0\n",
    "resp = conn.execute(\n",
    "    auth_result._session_id,\n",
    "    'CREATE SPACE IF NOT EXISTS SoulForge_test(vid_type=FIXED_STRING(256), partition_num=1, replica_factor=1);',\n",
    ")\n",
    "assert resp.error_code == ErrorCode.SUCCEEDED\n",
    "# insert data need to sleep after create schema\n",
    "time.sleep(10)\n",
    "\n",
    "session_pool = SessionPool(os.environ[\"NEBULA_USER\"], os.environ[\"NEBULA_PASSWORD\"], 'SoulForge_test', [(os.environ[\"GRAPHD_HOST\"], os.environ[\"GRAPHD_PORT\"])])\n",
    "assert session_pool.init(config)\n",
    "\n",
    "# add schema\n",
    "resp = session_pool.execute(\n",
    "    'CREATE TAG IF NOT EXISTS entity(name string);'\n",
    "    'CREATE EDGE IF NOT EXISTS relationship(relationship string);'\n",
    "    'CREATE TAG INDEX IF NOT EXISTS entity_index ON entity(name(256));'\n",
    ")"
   ]
  },
  {
   "cell_type": "code",
   "execution_count": 8,
   "metadata": {},
   "outputs": [],
   "source": [
    "space_name = \"SoulForge_test\"\n",
    "edge_types, rel_prop_names = [\"relationship\"], [\"relationship\"]\n",
    "tags = [\"entity\"]\n",
    "\n",
    "graph_store = NebulaGraphStore(\n",
    "    space_name=space_name,\n",
    "    edge_types=edge_types,\n",
    "    rel_prop_names=rel_prop_names,\n",
    "    tags=tags,\n",
    ")\n",
    "storage_context = StorageContext.from_defaults(graph_store=graph_store)"
   ]
  },
  {
   "cell_type": "code",
   "execution_count": 7,
   "id": "ff0b8516",
   "metadata": {},
   "outputs": [
    {
     "name": "stdout",
     "output_type": "stream",
     "text": [
      "Connection Pool Created\n"
     ]
    },
    {
     "data": {
      "text/html": [
       "<div>\n",
       "<style scoped>\n",
       "    .dataframe tbody tr th:only-of-type {\n",
       "        vertical-align: middle;\n",
       "    }\n",
       "\n",
       "    .dataframe tbody tr th {\n",
       "        vertical-align: top;\n",
       "    }\n",
       "\n",
       "    .dataframe thead th {\n",
       "        text-align: right;\n",
       "    }\n",
       "</style>\n",
       "<table border=\"1\" class=\"dataframe\">\n",
       "  <thead>\n",
       "    <tr style=\"text-align: right;\">\n",
       "      <th></th>\n",
       "      <th>Name</th>\n",
       "    </tr>\n",
       "  </thead>\n",
       "  <tbody>\n",
       "    <tr>\n",
       "      <th>0</th>\n",
       "      <td>SoulForge</td>\n",
       "    </tr>\n",
       "    <tr>\n",
       "      <th>1</th>\n",
       "      <td>SoulForge_test</td>\n",
       "    </tr>\n",
       "  </tbody>\n",
       "</table>\n",
       "</div>"
      ],
      "text/plain": [
       "             Name\n",
       "0       SoulForge\n",
       "1  SoulForge_test"
      ]
     },
     "execution_count": 7,
     "metadata": {},
     "output_type": "execute_result"
    }
   ],
   "source": [
    "%load_ext ngql\n",
    "connection_string = f\"--address 127.0.0.1 --port 9669 --user root --password nebula\"\n",
    "%ngql {connection_string}"
   ]
  },
  {
   "cell_type": "markdown",
   "id": "b5b206fe",
   "metadata": {},
   "source": [
    "SoulForge"
   ]
  },
  {
   "cell_type": "code",
   "execution_count": 6,
   "id": "b5973a4d",
   "metadata": {},
   "outputs": [
    {
     "name": "stdout",
     "output_type": "stream",
     "text": [
      "[ERROR]:\n",
      " Query Failed:\n",
      " Existed!\n"
     ]
    },
    {
     "data": {
      "text/html": [
       "<div>\n",
       "<style scoped>\n",
       "    .dataframe tbody tr th:only-of-type {\n",
       "        vertical-align: middle;\n",
       "    }\n",
       "\n",
       "    .dataframe tbody tr th {\n",
       "        vertical-align: top;\n",
       "    }\n",
       "\n",
       "    .dataframe thead th {\n",
       "        text-align: right;\n",
       "    }\n",
       "</style>\n",
       "<table border=\"1\" class=\"dataframe\">\n",
       "  <thead>\n",
       "    <tr style=\"text-align: right;\">\n",
       "      <th></th>\n",
       "    </tr>\n",
       "  </thead>\n",
       "  <tbody>\n",
       "  </tbody>\n",
       "</table>\n",
       "</div>"
      ],
      "text/plain": [
       "Empty DataFrame\n",
       "Columns: []\n",
       "Index: []"
      ]
     },
     "execution_count": 6,
     "metadata": {},
     "output_type": "execute_result"
    }
   ],
   "source": [
    "%%ngql\n",
    "ADD HOSTS \"storaged0\":9779,\"storaged1\":9779,\"storaged2\":9779"
   ]
  },
  {
   "cell_type": "code",
   "execution_count": 9,
   "id": "0afbbb7a",
   "metadata": {},
   "outputs": [
    {
     "name": "stdout",
     "output_type": "stream",
     "text": [
      "INFO:nebula3.logger:Get connection to ('127.0.0.1', 9669)\n"
     ]
    },
    {
     "data": {
      "text/html": [
       "<div>\n",
       "<style scoped>\n",
       "    .dataframe tbody tr th:only-of-type {\n",
       "        vertical-align: middle;\n",
       "    }\n",
       "\n",
       "    .dataframe tbody tr th {\n",
       "        vertical-align: top;\n",
       "    }\n",
       "\n",
       "    .dataframe thead th {\n",
       "        text-align: right;\n",
       "    }\n",
       "</style>\n",
       "<table border=\"1\" class=\"dataframe\">\n",
       "  <thead>\n",
       "    <tr style=\"text-align: right;\">\n",
       "      <th></th>\n",
       "    </tr>\n",
       "  </thead>\n",
       "  <tbody>\n",
       "  </tbody>\n",
       "</table>\n",
       "</div>"
      ],
      "text/plain": [
       "Empty DataFrame\n",
       "Columns: []\n",
       "Index: []"
      ]
     },
     "execution_count": 9,
     "metadata": {},
     "output_type": "execute_result"
    }
   ],
   "source": [
    "%%ngql\n",
    "CREATE SPACE IF NOT EXISTS SoulForge(vid_type=FIXED_STRING(256), partition_num=1, replica_factor=1);\n",
    "USE SoulForge;\n",
    "CREATE TAG IF NOT EXISTS entity(name string);\n",
    "CREATE EDGE IF NOT EXISTS relationship(relationship string);\n",
    "CREATE TAG INDEX IF NOT EXISTS entity_index ON entity(name(256));"
   ]
  },
  {
   "cell_type": "markdown",
   "metadata": {},
   "source": [
    "### Create storage_context with graph_store"
   ]
  },
  {
   "cell_type": "code",
   "execution_count": 11,
   "id": "700edb06",
   "metadata": {},
   "outputs": [],
   "source": [
    "os.environ['NEBULA_USER'] = \"root\"\n",
    "os.environ['NEBULA_PASSWORD'] = \"nebula\"\n",
    "os.environ['NEBULA_ADDRESS'] = \"127.0.0.1:9669\"\n",
    "\n",
    "space_name = \"SoulForge\"\n",
    "edge_types, rel_prop_names = [\"relationship\"], [\"relationship\"]\n",
    "tags = [\"entity\"]\n",
    "\n",
    "graph_store = NebulaGraphStore(\n",
    "    space_name=space_name,\n",
    "    edge_types=edge_types,\n",
    "    rel_prop_names=rel_prop_names,\n",
    "    tags=tags,\n",
    ")\n",
    "storage_context = StorageContext.from_defaults(graph_store=graph_store)"
   ]
  },
  {
   "cell_type": "code",
   "execution_count": null,
   "metadata": {},
   "outputs": [],
   "source": [
    "os.environ['NEBULA_USER'] = os.environ[\"NEBULA_USER\"]\n",
    "os.environ['NEBULA_PASSWORD'] = os.environ[\"NEBULA_PASSWORD\"]\n",
    "os.environ['NEBULA_ADDRESS'] = os.environ[\"NEBULA_ADDRESS\"]\n",
    "\n",
    "space_name = \"rag_workshop\"\n",
    "edge_types, rel_prop_names = [\"relationship\"], [\"relationship\"]\n",
    "tags = [\"entity\"]\n",
    "\n",
    "graph_store = NebulaGraphStore(\n",
    "    space_name=space_name,\n",
    "    edge_types=edge_types,\n",
    "    rel_prop_names=rel_prop_names,\n",
    "    tags=tags,\n",
    ")\n",
    "storage_context = StorageContext.from_defaults(graph_store=graph_store)"
   ]
  },
  {
   "cell_type": "markdown",
   "id": "bdde8220",
   "metadata": {},
   "source": [
    "## Generate KG"
   ]
  },
  {
   "cell_type": "code",
   "execution_count": 6,
   "id": "980eda21",
   "metadata": {},
   "outputs": [],
   "source": [
    "documents = SimpleDirectoryReader(r\"..\\scenes\").load_data()"
   ]
  },
  {
   "cell_type": "code",
   "execution_count": 12,
   "id": "853beb8e",
   "metadata": {},
   "outputs": [
    {
     "name": "stdout",
     "output_type": "stream",
     "text": [
      "(Ambassador K'thrax, is on, diplomatic mission)\n",
      "(Ambassador K'thrax, is on, diplomatic mission to negotiate)\n",
      "(Ambassador K'thrax, is on, diplomatic mission to negotiate a trade agreement)\n",
      "(Ambassador K'thrax, is on, diplomatic mission to negotiate a trade agreement with the notorious space pirate)\n",
      "(Ambassador K'thrax, is on, diplomatic mission to negotiate a trade agreement with the notorious space pirate, Captain Seraphina Blackthorn)\n",
      "(Captain Seraphina Blackthorn, is, space pirate)\n",
      "(Captain Seraphina Blackthorn, is, notorious space pirate)\n",
      "(Tensions, run high, as they discuss the terms)\n",
      "(Tensions, run high, as they discuss the terms, with veiled threats)\n",
      "(Tensions, run high, as they discuss the terms, with veiled threats and a hint of mutual respect)\n",
      "(Dr. Alex Ryder, vanished during, deep space mission)\n",
      "(Dr. Alex Ryder, was presumed dead)\n",
      "(Dr. Alex Ryder, is alive)\n",
      "(Dr. Alex Ryder, joined forces with, SARA)\n",
      "(Dr. Alex Ryder, joined forces with, clandestine underground movement)\n",
      "(Dr. Alex Ryder, seek the support of, Ambassador K'thrax)\n",
      "(Dr. Alex Ryder, seek the support of, to expose a conspiracy)\n",
      "(Dr. Alex Ryder, to expose a conspiracy, involving sentient androids)\n",
      "(Captain Zara Orion, delves deeper into, her mysterious past)\n",
      "(Captain Zara Orion, discovers that, Dr. Alex Ryder was involved in her disappearance)\n",
      "(A confrontation, unfolds as secrets are revealed, trust is shattered)\n",
      "(The fate of the starship's crew, hangs in the balance)\n",
      "(The Galactic Council Meeting, is in session, Ambassador K'thrax)\n",
      "(The Galactic Council Meeting, is in session, Captain Zara Orion)\n",
      "(The Galactic Council Meeting, is in session, Captain Seraphina Blackthorn)\n",
      "(The Galactic Council Meeting, is in session, SARA)\n",
      "(Ambassador K'thrax, addresses, the assembly)\n",
      "(Ambassador K'thrax, attempts to negotiate, a peace treaty)\n",
      "(Captain Zara Orion, listens attentively, keen on maintaining order)\n",
      "(Captain Seraphina Blackthorn, exchanges whispered comments, plotting their own schemes)\n",
      "(Captain Zara Orion, discovers, clues)\n",
      "(Dr. Alex Ryder, discovers, clues)\n",
      "(SARA, assists, deciphering)\n",
      "(space station, is location of, deep space mission)\n",
      "(space station, is location of, clues)\n",
      "(android, assists, deciphering)\n"
     ]
    }
   ],
   "source": [
    "kg_index = KnowledgeGraphIndex.from_documents(\n",
    "    documents,\n",
    "    storage_context=storage_context,\n",
    "    service_context=service_context,\n",
    "    max_triplets_per_chunk=10,\n",
    "    space_name=space_name,\n",
    "    edge_types=edge_types,\n",
    "    rel_prop_names=rel_prop_names,\n",
    "    tags=tags,\n",
    ")"
   ]
  },
  {
   "cell_type": "code",
   "execution_count": 13,
   "id": "9025a7e1",
   "metadata": {},
   "outputs": [
    {
     "name": "stdout",
     "output_type": "stream",
     "text": [
      "INFO:nebula3.logger:Get connection to ('127.0.0.1', 9669)\n",
      "INFO:nebula3.logger:Get connection to ('127.0.0.1', 9669)\n"
     ]
    },
    {
     "data": {
      "text/html": [
       "<div>\n",
       "<style scoped>\n",
       "    .dataframe tbody tr th:only-of-type {\n",
       "        vertical-align: middle;\n",
       "    }\n",
       "\n",
       "    .dataframe tbody tr th {\n",
       "        vertical-align: top;\n",
       "    }\n",
       "\n",
       "    .dataframe thead th {\n",
       "        text-align: right;\n",
       "    }\n",
       "</style>\n",
       "<table border=\"1\" class=\"dataframe\">\n",
       "  <thead>\n",
       "    <tr style=\"text-align: right;\">\n",
       "      <th></th>\n",
       "      <th>e</th>\n",
       "    </tr>\n",
       "  </thead>\n",
       "  <tbody>\n",
       "    <tr>\n",
       "      <th>0</th>\n",
       "      <td>(\"The Galactic Council Meeting\")-[:relationshi...</td>\n",
       "    </tr>\n",
       "    <tr>\n",
       "      <th>1</th>\n",
       "      <td>(\"The Galactic Council Meeting\")-[:relationshi...</td>\n",
       "    </tr>\n",
       "    <tr>\n",
       "      <th>2</th>\n",
       "      <td>(\"The Galactic Council Meeting\")-[:relationshi...</td>\n",
       "    </tr>\n",
       "    <tr>\n",
       "      <th>3</th>\n",
       "      <td>(\"The Galactic Council Meeting\")-[:relationshi...</td>\n",
       "    </tr>\n",
       "    <tr>\n",
       "      <th>4</th>\n",
       "      <td>(\"space station\")-[:relationship@-572631301180...</td>\n",
       "    </tr>\n",
       "    <tr>\n",
       "      <th>5</th>\n",
       "      <td>(\"space station\")-[:relationship@-572631301180...</td>\n",
       "    </tr>\n",
       "    <tr>\n",
       "      <th>6</th>\n",
       "      <td>(\"android\")-[:relationship@-549205934196681021...</td>\n",
       "    </tr>\n",
       "    <tr>\n",
       "      <th>7</th>\n",
       "      <td>(\"Tensions\")-[:relationship@902163024503347604...</td>\n",
       "    </tr>\n",
       "    <tr>\n",
       "      <th>8</th>\n",
       "      <td>(\"SARA\")-[:relationship@-5492059341966810217{r...</td>\n",
       "    </tr>\n",
       "    <tr>\n",
       "      <th>9</th>\n",
       "      <td>(\"Dr. Alex Ryder\")-[:relationship@-74844762488...</td>\n",
       "    </tr>\n",
       "    <tr>\n",
       "      <th>10</th>\n",
       "      <td>(\"Dr. Alex Ryder\")-[:relationship@-74844762488...</td>\n",
       "    </tr>\n",
       "    <tr>\n",
       "      <th>11</th>\n",
       "      <td>(\"Dr. Alex Ryder\")-[:relationship@-66638039754...</td>\n",
       "    </tr>\n",
       "    <tr>\n",
       "      <th>12</th>\n",
       "      <td>(\"Dr. Alex Ryder\")-[:relationship@-45371210580...</td>\n",
       "    </tr>\n",
       "    <tr>\n",
       "      <th>13</th>\n",
       "      <td>(\"Dr. Alex Ryder\")-[:relationship@-45371210580...</td>\n",
       "    </tr>\n",
       "    <tr>\n",
       "      <th>14</th>\n",
       "      <td>(\"Dr. Alex Ryder\")-[:relationship@403381155895...</td>\n",
       "    </tr>\n",
       "    <tr>\n",
       "      <th>15</th>\n",
       "      <td>(\"Dr. Alex Ryder\")-[:relationship@660815340863...</td>\n",
       "    </tr>\n",
       "    <tr>\n",
       "      <th>16</th>\n",
       "      <td>(\"Captain Zara Orion\")-[:relationship@-7286462...</td>\n",
       "    </tr>\n",
       "    <tr>\n",
       "      <th>17</th>\n",
       "      <td>(\"Captain Zara Orion\")-[:relationship@-6663803...</td>\n",
       "    </tr>\n",
       "    <tr>\n",
       "      <th>18</th>\n",
       "      <td>(\"Captain Zara Orion\")-[:relationship@-6574989...</td>\n",
       "    </tr>\n",
       "    <tr>\n",
       "      <th>19</th>\n",
       "      <td>(\"Captain Zara Orion\")-[:relationship@-6283598...</td>\n",
       "    </tr>\n",
       "    <tr>\n",
       "      <th>20</th>\n",
       "      <td>(\"Captain Seraphina Blackthorn\")-[:relationshi...</td>\n",
       "    </tr>\n",
       "    <tr>\n",
       "      <th>21</th>\n",
       "      <td>(\"Captain Seraphina Blackthorn\")-[:relationshi...</td>\n",
       "    </tr>\n",
       "    <tr>\n",
       "      <th>22</th>\n",
       "      <td>(\"Captain Seraphina Blackthorn\")-[:relationshi...</td>\n",
       "    </tr>\n",
       "    <tr>\n",
       "      <th>23</th>\n",
       "      <td>(\"Ambassador K'thrax\")-[:relationship@-3390450...</td>\n",
       "    </tr>\n",
       "    <tr>\n",
       "      <th>24</th>\n",
       "      <td>(\"Ambassador K'thrax\")-[:relationship@-3390450...</td>\n",
       "    </tr>\n",
       "    <tr>\n",
       "      <th>25</th>\n",
       "      <td>(\"Ambassador K'thrax\")-[:relationship@-3390450...</td>\n",
       "    </tr>\n",
       "    <tr>\n",
       "      <th>26</th>\n",
       "      <td>(\"Ambassador K'thrax\")-[:relationship@-3390450...</td>\n",
       "    </tr>\n",
       "    <tr>\n",
       "      <th>27</th>\n",
       "      <td>(\"Ambassador K'thrax\")-[:relationship@59799236...</td>\n",
       "    </tr>\n",
       "    <tr>\n",
       "      <th>28</th>\n",
       "      <td>(\"Ambassador K'thrax\")-[:relationship@53824052...</td>\n",
       "    </tr>\n",
       "    <tr>\n",
       "      <th>29</th>\n",
       "      <td>(\"A confrontation\")-[:relationship@-4784465909...</td>\n",
       "    </tr>\n",
       "  </tbody>\n",
       "</table>\n",
       "</div>"
      ],
      "text/plain": [
       "                                                    e\n",
       "0   (\"The Galactic Council Meeting\")-[:relationshi...\n",
       "1   (\"The Galactic Council Meeting\")-[:relationshi...\n",
       "2   (\"The Galactic Council Meeting\")-[:relationshi...\n",
       "3   (\"The Galactic Council Meeting\")-[:relationshi...\n",
       "4   (\"space station\")-[:relationship@-572631301180...\n",
       "5   (\"space station\")-[:relationship@-572631301180...\n",
       "6   (\"android\")-[:relationship@-549205934196681021...\n",
       "7   (\"Tensions\")-[:relationship@902163024503347604...\n",
       "8   (\"SARA\")-[:relationship@-5492059341966810217{r...\n",
       "9   (\"Dr. Alex Ryder\")-[:relationship@-74844762488...\n",
       "10  (\"Dr. Alex Ryder\")-[:relationship@-74844762488...\n",
       "11  (\"Dr. Alex Ryder\")-[:relationship@-66638039754...\n",
       "12  (\"Dr. Alex Ryder\")-[:relationship@-45371210580...\n",
       "13  (\"Dr. Alex Ryder\")-[:relationship@-45371210580...\n",
       "14  (\"Dr. Alex Ryder\")-[:relationship@403381155895...\n",
       "15  (\"Dr. Alex Ryder\")-[:relationship@660815340863...\n",
       "16  (\"Captain Zara Orion\")-[:relationship@-7286462...\n",
       "17  (\"Captain Zara Orion\")-[:relationship@-6663803...\n",
       "18  (\"Captain Zara Orion\")-[:relationship@-6574989...\n",
       "19  (\"Captain Zara Orion\")-[:relationship@-6283598...\n",
       "20  (\"Captain Seraphina Blackthorn\")-[:relationshi...\n",
       "21  (\"Captain Seraphina Blackthorn\")-[:relationshi...\n",
       "22  (\"Captain Seraphina Blackthorn\")-[:relationshi...\n",
       "23  (\"Ambassador K'thrax\")-[:relationship@-3390450...\n",
       "24  (\"Ambassador K'thrax\")-[:relationship@-3390450...\n",
       "25  (\"Ambassador K'thrax\")-[:relationship@-3390450...\n",
       "26  (\"Ambassador K'thrax\")-[:relationship@-3390450...\n",
       "27  (\"Ambassador K'thrax\")-[:relationship@59799236...\n",
       "28  (\"Ambassador K'thrax\")-[:relationship@53824052...\n",
       "29  (\"A confrontation\")-[:relationship@-4784465909..."
      ]
     },
     "execution_count": 13,
     "metadata": {},
     "output_type": "execute_result"
    }
   ],
   "source": [
    "%ngql USE SoulForge;\n",
    "%ngql MATCH ()-[e]->() RETURN e"
   ]
  },
  {
   "cell_type": "code",
   "execution_count": 14,
   "id": "b97f4493",
   "metadata": {},
   "outputs": [
    {
     "data": {
      "text/html": [
       "\n",
       "        <iframe\n",
       "            width=\"100%\"\n",
       "            height=\"500px\"\n",
       "            src=\"nebulagraph.html\"\n",
       "            frameborder=\"0\"\n",
       "            allowfullscreen\n",
       "            \n",
       "        ></iframe>\n",
       "        "
      ],
      "text/plain": [
       "<IPython.lib.display.IFrame at 0x2919dd61ed0>"
      ]
     },
     "metadata": {},
     "output_type": "display_data"
    },
    {
     "data": {
      "text/plain": [
       "<class 'pyvis.network.Network'> |N|=30 |E|=30"
      ]
     },
     "execution_count": 14,
     "metadata": {},
     "output_type": "execute_result"
    }
   ],
   "source": [
    "%ng_draw"
   ]
  },
  {
   "cell_type": "markdown",
   "id": "5ea3a2cc",
   "metadata": {},
   "source": [
    "## Load previously generated KG"
   ]
  },
  {
   "cell_type": "code",
   "execution_count": 20,
   "id": "0e9ac35f",
   "metadata": {},
   "outputs": [],
   "source": [
    "from llama_index import load_index_from_storage\n",
    "\n",
    "storage_context = StorageContext.from_defaults(persist_dir='/mnt/c/Users/xli.ASSYSTEM/Documents/Digital safety/data/fr_embed_storage_graph', graph_store=graph_store)\n",
    "kg_index = load_index_from_storage(\n",
    "    storage_context=storage_context,\n",
    "    service_context=service_context,\n",
    "    max_triplets_per_chunk=10,\n",
    "    space_name=space_name,\n",
    "    edge_types=edge_types,\n",
    "    rel_prop_names=rel_prop_names,\n",
    "    tags=tags,\n",
    "    verbose=True,\n",
    ")"
   ]
  },
  {
   "cell_type": "code",
   "execution_count": 24,
   "id": "0dbdb0f2",
   "metadata": {},
   "outputs": [
    {
     "data": {
      "text/html": [
       "<div>\n",
       "<style scoped>\n",
       "    .dataframe tbody tr th:only-of-type {\n",
       "        vertical-align: middle;\n",
       "    }\n",
       "\n",
       "    .dataframe tbody tr th {\n",
       "        vertical-align: top;\n",
       "    }\n",
       "\n",
       "    .dataframe thead th {\n",
       "        text-align: right;\n",
       "    }\n",
       "</style>\n",
       "<table border=\"1\" class=\"dataframe\">\n",
       "  <thead>\n",
       "    <tr style=\"text-align: right;\">\n",
       "      <th></th>\n",
       "      <th>e</th>\n",
       "    </tr>\n",
       "  </thead>\n",
       "  <tbody>\n",
       "    <tr>\n",
       "      <th>0</th>\n",
       "      <td>(\"évents\")-[:relationship@-3431488967660501439...</td>\n",
       "    </tr>\n",
       "    <tr>\n",
       "      <th>1</th>\n",
       "      <td>(\"zone_de_surpression\")-[:relationship@-738609...</td>\n",
       "    </tr>\n",
       "    <tr>\n",
       "      <th>2</th>\n",
       "      <td>(\"zone_de_surpression\")-[:relationship@-738609...</td>\n",
       "    </tr>\n",
       "    <tr>\n",
       "      <th>3</th>\n",
       "      <td>(\"zone_de_surpression\")-[:relationship@-738609...</td>\n",
       "    </tr>\n",
       "    <tr>\n",
       "      <th>4</th>\n",
       "      <td>(\"zone_de_surpression\")-[:relationship@-738609...</td>\n",
       "    </tr>\n",
       "    <tr>\n",
       "      <th>...</th>\n",
       "      <td>...</td>\n",
       "    </tr>\n",
       "    <tr>\n",
       "      <th>972</th>\n",
       "      <td>(\"fumées\")-[:relationship@-3640410747914980111...</td>\n",
       "    </tr>\n",
       "    <tr>\n",
       "      <th>973</th>\n",
       "      <td>(\"fonctionnement normal\")-[:relationship@-7396...</td>\n",
       "    </tr>\n",
       "    <tr>\n",
       "      <th>974</th>\n",
       "      <td>(\"Implantation\")-[:relationship@65928469527764...</td>\n",
       "    </tr>\n",
       "    <tr>\n",
       "      <th>975</th>\n",
       "      <td>(\"Implantation\")-[:relationship@65928469527764...</td>\n",
       "    </tr>\n",
       "    <tr>\n",
       "      <th>976</th>\n",
       "      <td>(\"Implantation\")-[:relationship@65928469527764...</td>\n",
       "    </tr>\n",
       "  </tbody>\n",
       "</table>\n",
       "<p>977 rows × 1 columns</p>\n",
       "</div>"
      ],
      "text/plain": [
       "                                                     e\n",
       "0    (\"évents\")-[:relationship@-3431488967660501439...\n",
       "1    (\"zone_de_surpression\")-[:relationship@-738609...\n",
       "2    (\"zone_de_surpression\")-[:relationship@-738609...\n",
       "3    (\"zone_de_surpression\")-[:relationship@-738609...\n",
       "4    (\"zone_de_surpression\")-[:relationship@-738609...\n",
       "..                                                 ...\n",
       "972  (\"fumées\")-[:relationship@-3640410747914980111...\n",
       "973  (\"fonctionnement normal\")-[:relationship@-7396...\n",
       "974  (\"Implantation\")-[:relationship@65928469527764...\n",
       "975  (\"Implantation\")-[:relationship@65928469527764...\n",
       "976  (\"Implantation\")-[:relationship@65928469527764...\n",
       "\n",
       "[977 rows x 1 columns]"
      ]
     },
     "execution_count": 24,
     "metadata": {},
     "output_type": "execute_result"
    }
   ],
   "source": [
    "%ngql USE rag_workshop;\n",
    "%ngql MATCH ()-[e]->() RETURN e"
   ]
  },
  {
   "cell_type": "code",
   "execution_count": 25,
   "id": "e7913cd5",
   "metadata": {
    "scrolled": true
   },
   "outputs": [
    {
     "data": {
      "text/html": [
       "\n",
       "        <iframe\n",
       "            width=\"100%\"\n",
       "            height=\"500px\"\n",
       "            src=\"nebulagraph.html\"\n",
       "            frameborder=\"0\"\n",
       "            allowfullscreen\n",
       "            \n",
       "        ></iframe>\n",
       "        "
      ],
      "text/plain": [
       "<IPython.lib.display.IFrame at 0x7f8c8bb2eb00>"
      ]
     },
     "metadata": {},
     "output_type": "display_data"
    },
    {
     "data": {
      "text/plain": [
       "<class 'pyvis.network.Network'> |N|=898 |E|=977"
      ]
     },
     "execution_count": 25,
     "metadata": {},
     "output_type": "execute_result"
    }
   ],
   "source": [
    "%ng_draw"
   ]
  },
  {
   "cell_type": "code",
   "execution_count": 35,
   "id": "9dab7bfc",
   "metadata": {},
   "outputs": [
    {
     "data": {
      "text/plain": [
       "<llama_index.graph_stores.nebulagraph.NebulaGraphStore at 0x7f983175d7e0>"
      ]
     },
     "execution_count": 35,
     "metadata": {},
     "output_type": "execute_result"
    }
   ],
   "source": [
    "kg_index.graph_store"
   ]
  },
  {
   "cell_type": "code",
   "execution_count": 42,
   "id": "a9c334ca",
   "metadata": {},
   "outputs": [
    {
     "name": "stdout",
     "output_type": "stream",
     "text": [
      "UP1\n",
      "usine\n",
      "objet\n",
      "champ d’application\n",
      "Usine\n",
      "Marcoule\n",
      "Usine UP1\n",
      "Usine Marcoule\n",
      "Philz\n",
      "1982\n",
      "Berkeley\n",
      "coffee shop\n",
      "PT\n",
      "générale\n",
      "risque\n",
      "opération\n",
      "atelier\n",
      "section\n",
      "libellé\n",
      "Plutonium\n",
      "limit\n",
      "criticité\n",
      "sûreté\n",
      "H\n",
      "PT spécifique\n",
      "I\n",
      "J\n",
      "K\n",
      "L\n",
      "M\n",
      "N\n",
      "O\n",
      "P\n",
      "L.1\n",
      "L.3\n",
      "L.4\n",
      "L.6\n",
      "L.8\n",
      "L.10\n",
      "L.12\n",
      "L.14\n",
      "L.16\n",
      "L.18\n",
      "L.20\n",
      "L.22\n",
      "L.24\n",
      "L.26\n",
      "L.28\n",
      "L.30\n",
      "L.32\n",
      "L.34\n",
      "L.36\n",
      "P.1\n",
      "P.3\n",
      "effluents\n",
      "solutions actives\n",
      "assainissement\n",
      "masse\n",
      "soluble\n",
      "cumul\n",
      "inférieure\n",
      "bat 117\n",
      "traitement\n",
      "text: Philz\n",
      "RDS\n",
      "R0\n",
      "Page\n",
      "10\n",
      "/ 10\n",
      "013413\n",
      "9\n",
      "32\n",
      "1\n",
      "boîte à gants\n",
      "procédé\n",
      "démantelée\n",
      "MAR 09 013413\n",
      "site\n",
      "bâtiment 100\n",
      "bâtiment 117\n",
      "température\n",
      "température minimale\n",
      "température maximale\n",
      "température moyenne\n",
      "température moyenne des mois d’hiver\n",
      "température moyenne des mois d’été\n",
      "température de 30°C\n",
      "nombre de jours de gelée sous abri\n",
      "humidité de l’air\n",
      "précipitation\n",
      "vent dominant\n",
      "vitesse moyenne des vents\n",
      "mistral de l’ordre de 70 à 80 km/h\n",
      "barrière dynamique\n",
      "vitesse de passage\n",
      "barrière statique\n",
      "taux de renouvellement\n",
      "page_label\n",
      "2\n",
      "ventilation\n",
      "e\n",
      "t\n",
      "l\n",
      "o\n",
      ",\n",
      "<\n",
      "[\n",
      "s\n",
      "-\n",
      " \n",
      "n\n",
      "a\n",
      "i\n",
      "m\n",
      "]\n",
      "g\n",
      "f\n",
      ">\n",
      "û\n",
      "é\n",
      "r\n",
      "u\n",
      "q\n",
      "d\n",
      "p\n",
      "c\n",
      ".\n",
      "6\n",
      "b\n",
      "’\n",
      "F\n",
      "4\n",
      "D\n",
      "A\n",
      "0\n",
      "3\n",
      "S\n",
      "R\n",
      "k\n",
      "E\n",
      "7\n",
      "B\n",
      "à\n",
      "h\n",
      "T\n",
      "8\n",
      "5\n",
      "v\n",
      "y\n",
      "'\n",
      "z\n",
      "_\n",
      "j\n",
      "U\n",
      "x\n",
      ":\n",
      "/\n",
      "C\n",
      "è\n",
      "â\n",
      "V\n",
      "°\n",
      "î\n"
     ]
    }
   ],
   "source": [
    "import networkx as nx\n",
    "import matplotlib.pyplot as plt\n",
    "g = kg_index.get_networkx_graph()\n",
    "for n in g.nodes:\n",
    "    print(n)"
   ]
  },
  {
   "cell_type": "code",
   "execution_count": null,
   "id": "a7505377",
   "metadata": {},
   "outputs": [],
   "source": [
    "kg_index_query_engine = kg_index.as_query_engine(\n",
    "    retriever_mode=\"keyword\",\n",
    "    verbose=True,\n",
    "    response_mode=\"tree_summarize\",\n",
    ")\n",
    "response_graph_rag = kg_index_query_engine.query(\"Résume moi\")\n",
    "\n",
    "display(Markdown(f\"<b>{response_graph_rag}</b>\"))"
   ]
  },
  {
   "cell_type": "code",
   "execution_count": null,
   "id": "8039a322",
   "metadata": {},
   "outputs": [],
   "source": [
    "response_graph_rag = kg_index_query_engine.query(\"Résume moi\")\n",
    "\n",
    "display(Markdown(f\"<b>{response_graph_rag}</b>\"))"
   ]
  },
  {
   "cell_type": "code",
   "execution_count": null,
   "id": "2c2e0c26",
   "metadata": {},
   "outputs": [],
   "source": [
    "\n",
    "index = ListIndex.from_documents(documents, service_context=service_context)\n",
    "\n",
    "# Query and print response\n",
    "query_engine = index.as_query_engine()\n",
    "response = query_engine.query(\"Quel est le titre du chapitre 5 ?\")\n",
    "print(response)"
   ]
  },
  {
   "cell_type": "code",
   "execution_count": null,
   "id": "c54cf2d9",
   "metadata": {},
   "outputs": [],
   "source": [
    "index.save_to_disk(\"/mnt/c/Users/xli.ASSYSTEM/Documents/Digital safety/data\")"
   ]
  },
  {
   "cell_type": "code",
   "execution_count": null,
   "id": "e13a145a",
   "metadata": {},
   "outputs": [],
   "source": [
    "index.index_id"
   ]
  },
  {
   "cell_type": "code",
   "execution_count": null,
   "id": "a7c62b70",
   "metadata": {},
   "outputs": [],
   "source": [
    "index.storage_context.persist(\"/mnt/c/Users/xli.ASSYSTEM/Documents/Digital safety/data/index\")"
   ]
  },
  {
   "cell_type": "code",
   "execution_count": null,
   "id": "059214a9",
   "metadata": {},
   "outputs": [],
   "source": [
    "from llama_index import StorageContext, load_index_from_storage\n",
    "storage_context = StorageContext.from_defaults(persist_dir=\"/mnt/c/Users/xli.ASSYSTEM/Documents/Digital safety/data/index\")\n",
    "index = ListIndex.from_documents(documents, service_context=service_context)\n",
    "\n",
    "new_index = load_index_from_storage(storage_context, service_context=service_context)\n",
    "new_query_engine = new_index.as_query_engine()\n",
    "response = new_query_engine.query(\"Quel est le titre du chapitre 5 ?\")\n",
    "print(response)"
   ]
  }
 ],
 "metadata": {
  "kernelspec": {
   "display_name": "Python 3.11.5 ('llm_venv')",
   "language": "python",
   "name": "python3"
  },
  "language_info": {
   "codemirror_mode": {
    "name": "ipython",
    "version": 3
   },
   "file_extension": ".py",
   "mimetype": "text/x-python",
   "name": "python",
   "nbconvert_exporter": "python",
   "pygments_lexer": "ipython3",
   "version": "3.11.5"
  },
  "vscode": {
   "interpreter": {
    "hash": "16e135b305328292315cbee90f5f0f7101b27133a01d546ce5d3ae809878a6e7"
   }
  }
 },
 "nbformat": 4,
 "nbformat_minor": 5
}
